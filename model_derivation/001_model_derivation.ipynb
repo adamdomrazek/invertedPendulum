{
 "cells": [
  {
   "attachments": {},
   "cell_type": "markdown",
   "metadata": {},
   "source": [
    "<!-- <img src=\"./obrazek.png\" alt=\"obrazek\" width=\"900\" /> -->\n",
    "<img src=\"https://drive.google.com/uc?id=16dXZdH0UexIBEzQbP6IXG3t7t-ojXDNg\" width=\"900\"> \n"
   ]
  },
  {
   "cell_type": "code",
   "execution_count": 9,
   "metadata": {},
   "outputs": [],
   "source": [
    "from IPython.display import display as disp\n",
    "from IPython.display import Math as math"
   ]
  },
  {
   "cell_type": "code",
   "execution_count": 10,
   "metadata": {},
   "outputs": [],
   "source": [
    "import numpy as np\n",
    "from sympy import symbols, cos, sin\n",
    "import sympy as smp\n",
    "from scipy.integrate import odeint\n",
    "import matplotlib.pyplot as plt"
   ]
  },
  {
   "cell_type": "code",
   "execution_count": 11,
   "metadata": {},
   "outputs": [],
   "source": [
    "# sympy.physics : https://stackoverflow.com/questions/25346132/is-it-possible-to-implement-newtons-dot-notation-or-lagranges-prime-notation\n",
    "# Newtown notation for derivatives (dot notation)\n",
    "from sympy.physics.mechanics import dynamicsymbols, init_vprinting\n",
    "\n",
    "init_vprinting() \n",
    "\n",
    "# Implicitly creates r, d as functions of time\n",
    "# a, b = dynamicsymbols('r d')    "
   ]
  },
  {
   "cell_type": "code",
   "execution_count": 12,
   "metadata": {
    "tags": []
   },
   "outputs": [],
   "source": [
    "from sympy import print_latex"
   ]
  },
  {
   "cell_type": "code",
   "execution_count": 13,
   "metadata": {
    "tags": []
   },
   "outputs": [],
   "source": [
    "from IPython.display import Markdown as md"
   ]
  },
  {
   "cell_type": "code",
   "execution_count": 14,
   "metadata": {},
   "outputs": [],
   "source": [
    "m_r, m_p, m_c, M, gamma, b, g, J_cm, L_c, L_p, L = symbols('m_r m_p m_c M gamma b g J_{cm} L_c L_p, L')\n",
    "t = symbols('t')\n",
    "\n",
    "# Functions\n",
    "x, y, u, xcm, ycm = symbols('x y u x_{cm} y_{cm}', cls=smp.Function)\n",
    "theta = symbols('theta', cls=smp.Function)\n",
    "\n",
    "# Disturbances\n",
    "D = smp.symbols('D', cls=smp.Symbol)\n",
    "alpha = smp.symbols('alpha', cls=smp.Function)\n",
    "alpha = alpha(t)\n",
    "\n",
    "x = x(t)\n",
    "y = y(t)\n",
    "u = u(t)\n",
    "xcm = xcm(t)\n",
    "ycm = ycm(t)\n",
    "theta = theta(t)\n",
    "\n",
    "# Other\n",
    "Rx, Ry = symbols('R_x R_y')\n",
    "\n",
    "# Derivatives\n",
    "Dx = x.diff(t, 1)\n",
    "DDx = x.diff(t, 2)"
   ]
  },
  {
   "attachments": {},
   "cell_type": "markdown",
   "metadata": {},
   "source": [
    "## <b>1. Trolley forces\n",
    "$M\\ddot{x} = F - F_f - R_x$\\\n",
    "$F = u$\\\n",
    "Friction model:\\\n",
    "$F_f = b\\dot{x}$"
   ]
  },
  {
   "cell_type": "code",
   "execution_count": 15,
   "metadata": {},
   "outputs": [],
   "source": [
    "F_f = b*Dx"
   ]
  },
  {
   "cell_type": "code",
   "execution_count": 16,
   "metadata": {},
   "outputs": [
    {
     "data": {
      "image/png": "[encoded data removed]",
      "text/latex": [
       "$\\displaystyle M \\ddot{x} = - R_{x} - b \\dot{x} + u$"
      ],
      "text/plain": [
       "M⋅ẍ = -Rₓ - b⋅ẋ + u"
      ]
     },
     "metadata": {},
     "output_type": "display_data"
    }
   ],
   "source": [
    "lhs = M*DDx\n",
    "rhs = u - F_f - Rx\n",
    "\n",
    "f_trolley_eq = smp.Eq(lhs=lhs, rhs=rhs)\n",
    "\n",
    "disp(f_trolley_eq)"
   ]
  },
  {
   "attachments": {},
   "cell_type": "markdown",
   "metadata": {},
   "source": [
    "## <b> L: Distance from rotation axis to center of mass of the pendulum\n",
    "$L = L_{cm} = \\frac{m_cL_c + m_pL_p}{m_c+m_p} = \\frac{m_cL_c + m_pL_p}{m_r}$\\\n",
    "$m_r = m_c + m_p$"
   ]
  },
  {
   "cell_type": "code",
   "execution_count": 17,
   "metadata": {},
   "outputs": [
    {
     "data": {
      "image/png": "[encoded data removed]",
      "text/latex": [
       "$\\displaystyle \\frac{L_{c} m_{c} + L_{p} m_{p}}{m_{r}}$"
      ],
      "text/plain": [
       "L_c⋅m_c + Lₚ⋅mₚ\n",
       "───────────────\n",
       "       mᵣ      "
      ]
     },
     "execution_count": 17,
     "metadata": {},
     "output_type": "execute_result"
    }
   ],
   "source": [
    "L_cm_ramienia = (m_c*L_c + m_p*L_p) / (m_r) \n",
    "L_cm_ramienia"
   ]
  },
  {
   "attachments": {},
   "cell_type": "markdown",
   "metadata": {},
   "source": [
    "## <b>2. Pendulum center of mass position\n",
    "$P_{cm} = (x_{cm}, y_{cm})$\\\n",
    "$x_{cm} = x + L\\sin(\\theta)$\\\n",
    "$y_{cm} = L\\cos(\\theta)$"
   ]
  },
  {
   "cell_type": "code",
   "execution_count": 18,
   "metadata": {
    "tags": []
   },
   "outputs": [
    {
     "data": {
      "image/png": "[encoded data removed]",
      "text/latex": [
       "$\\displaystyle L \\sin{\\left(\\theta \\right)} + x$"
      ],
      "text/plain": [
       "L⋅sin(θ) + x"
      ]
     },
     "metadata": {},
     "output_type": "display_data"
    },
    {
     "data": {
      "image/png": "[encoded data removed]",
      "text/latex": [
       "$\\displaystyle L \\cos{\\left(\\theta \\right)}$"
      ],
      "text/plain": [
       "L⋅cos(θ)"
      ]
     },
     "metadata": {},
     "output_type": "display_data"
    }
   ],
   "source": [
    "xcm = x+L*sin(theta)\n",
    "ycm = L*cos(theta)\n",
    "\n",
    "disp(xcm)\n",
    "disp(ycm)"
   ]
  },
  {
   "attachments": {},
   "cell_type": "markdown",
   "metadata": {},
   "source": [
    "## <b>3. Pendulum forces\n",
    "$m\\ddot{x}_{cm} = R_x + D\\cos(\\alpha)$\\\n",
    "$m\\ddot{y}_{cm} = R_y - m_rg - D\\sin(\\alpha)$\n"
   ]
  },
  {
   "cell_type": "code",
   "execution_count": 19,
   "metadata": {
    "tags": []
   },
   "outputs": [
    {
     "data": {
      "image/png": "[encoded data removed]",
      "text/latex": [
       "$\\displaystyle R_{x} = - D \\cos{\\left(\\alpha \\right)} - L m_{r} \\sin{\\left(\\theta \\right)} \\dot{\\theta}^{2} + L m_{r} \\cos{\\left(\\theta \\right)} \\ddot{\\theta} + m_{r} \\ddot{x}$"
      ],
      "text/plain": [
       "                              2                       \n",
       "Rₓ = -D⋅cos(α) - L⋅mᵣ⋅sin(θ)⋅θ̇  + L⋅mᵣ⋅cos(θ)⋅θ̈ + mᵣ⋅ẍ"
      ]
     },
     "metadata": {},
     "output_type": "display_data"
    },
    {
     "data": {
      "image/png": "[encoded data removed]",
      "text/latex": [
       "$\\displaystyle R_{y} = D \\sin{\\left(\\alpha \\right)} - L m_{r} \\sin{\\left(\\theta \\right)} \\ddot{\\theta} - L m_{r} \\cos{\\left(\\theta \\right)} \\dot{\\theta}^{2} + g m_{r}$"
      ],
      "text/plain": [
       "                                              2       \n",
       "R_y = D⋅sin(α) - L⋅mᵣ⋅sin(θ)⋅θ̈ - L⋅mᵣ⋅cos(θ)⋅θ̇  + g⋅mᵣ"
      ]
     },
     "metadata": {},
     "output_type": "display_data"
    }
   ],
   "source": [
    "Dx_cm = xcm.diff(t, 1)\n",
    "DDx_cm = xcm.diff(t, 2)\n",
    "DDy_cm = ycm.diff(t, 2)\n",
    "\n",
    "Rx_expr = m_r * DDx_cm - D*cos(alpha)\n",
    "Ry_expr = m_r * DDy_cm + m_r*g + D*sin(alpha)\n",
    "\n",
    "# print('Rx EXPR:')\n",
    "# disp(Rx_expr)\n",
    "disp(smp.Eq(Rx, Rx_expr).doit().expand())\n",
    "# print('RX LATEX CODE:')\n",
    "# print_latex(Rx_res)\n",
    "\n",
    "# print('Ry EXPR:')\n",
    "# disp(Ry_expr)\n",
    "disp(smp.Eq(Ry, Ry_expr).doit().expand())\n",
    "# print('RY LATEX CODE')\n",
    "# print_latex(Ry_res)\n"
   ]
  },
  {
   "cell_type": "code",
   "execution_count": null,
   "metadata": {},
   "outputs": [
    {
     "data": {
      "image/png": "[encoded data removed]",
      "text/latex": [
       "$\\displaystyle x_{cm}$"
      ],
      "text/plain": [
       "x_{cm}"
      ]
     },
     "execution_count": 12,
     "metadata": {},
     "output_type": "execute_result"
    }
   ],
   "source": [
    "xcm"
   ]
  },
  {
   "attachments": {},
   "cell_type": "markdown",
   "metadata": {
    "tags": []
   },
   "source": [
    "## <b> Pendulum torques around its center os mass\n",
    "$J_{cm}\\ddot{\\theta} = LR_y\\sin(\\theta) - LR_x\\cos(\\theta) - \\gamma\\ddot{\\theta} + m_c g \\sin(\\theta)[L_c-L] - m_p g\\sin(\\theta)[L-L_p] + D\\cos(\\frac{\\pi}{4} - \\alpha)$\n"
   ]
  },
  {
   "cell_type": "code",
   "execution_count": 20,
   "metadata": {
    "tags": []
   },
   "outputs": [
    {
     "data": {
      "image/png": "[encoded data removed]",
      "text/latex": [
       "$\\displaystyle J_{cm} \\ddot{\\theta} = D \\sin{\\left(\\alpha + \\frac{\\pi}{4} \\right)} - L R_{x} \\cos{\\left(\\theta \\right)} + L R_{y} \\sin{\\left(\\theta \\right)} + g m_{c} \\left(- L + L_{c}\\right) \\sin{\\left(\\theta \\right)} - g m_{p} \\left(L - L_{p}\\right) \\sin{\\left(\\theta \\right)} - \\gamma \\dot{\\theta}$"
      ],
      "text/plain": [
       "                ⎛    π⎞                                                       \n",
       "J_{cm}⋅θ̈ = D⋅sin⎜α + ─⎟ - L⋅Rₓ⋅cos(θ) + L⋅R_y⋅sin(θ) + g⋅m_c⋅(-L + L_c)⋅sin(θ\n",
       "                ⎝    4⎠                                                       \n",
       "\n",
       "                             \n",
       ") - g⋅mₚ⋅(L - Lₚ)⋅sin(θ) - γ⋅θ̇\n",
       "                             "
      ]
     },
     "execution_count": 20,
     "metadata": {},
     "output_type": "execute_result"
    }
   ],
   "source": [
    "Dtheta = theta.diff(t, 1)\n",
    "DDtheta = theta.diff(t, 2)\n",
    "\n",
    "lhs = J_cm*DDtheta\n",
    "rhs = L*Ry*sin(theta) - L*Rx*cos(theta) - gamma*Dtheta + m_c*g*sin(theta)*(L_c-L) - m_p*g*sin(theta)*(L-L_p) + D*cos(smp.pi/4 - alpha)\n",
    "bilans_momentow = smp.Eq(lhs=lhs, rhs=rhs)\n",
    "bilans_momentow"
   ]
  },
  {
   "cell_type": "code",
   "execution_count": 21,
   "metadata": {},
   "outputs": [
    {
     "name": "stdout",
     "output_type": "stream",
     "text": [
      "Some results\n",
      "-----------------------------------\n",
      "1. f_trolley_eq\n"
     ]
    },
    {
     "data": {
      "image/png": "[encoded data removed]",
      "text/latex": [
       "$\\displaystyle M \\ddot{x} = - R_{x} - b \\dot{x} + u$"
      ],
      "text/plain": [
       "M⋅ẍ = -Rₓ - b⋅ẋ + u"
      ]
     },
     "metadata": {},
     "output_type": "display_data"
    },
    {
     "name": "stdout",
     "output_type": "stream",
     "text": [
      "2. bilans_momentów\n"
     ]
    },
    {
     "data": {
      "image/png": "[encoded data removed]",
      "text/latex": [
       "$\\displaystyle J_{cm} \\ddot{\\theta} = D \\sin{\\left(\\alpha + \\frac{\\pi}{4} \\right)} - L R_{x} \\cos{\\left(\\theta \\right)} + L R_{y} \\sin{\\left(\\theta \\right)} - L g m_{c} \\sin{\\left(\\theta \\right)} - L g m_{p} \\sin{\\left(\\theta \\right)} + L_{c} g m_{c} \\sin{\\left(\\theta \\right)} + L_{p} g m_{p} \\sin{\\left(\\theta \\right)} - \\gamma \\dot{\\theta}$"
      ],
      "text/plain": [
       "                ⎛    π⎞                                                       \n",
       "J_{cm}⋅θ̈ = D⋅sin⎜α + ─⎟ - L⋅Rₓ⋅cos(θ) + L⋅R_y⋅sin(θ) - L⋅g⋅m_c⋅sin(θ) - L⋅g⋅m\n",
       "                ⎝    4⎠                                                       \n",
       "\n",
       "                                                 \n",
       "ₚ⋅sin(θ) + L_c⋅g⋅m_c⋅sin(θ) + Lₚ⋅g⋅mₚ⋅sin(θ) - γ⋅θ̇\n",
       "                                                 "
      ]
     },
     "metadata": {},
     "output_type": "display_data"
    },
    {
     "name": "stdout",
     "output_type": "stream",
     "text": [
      "3. Reaction forces\n"
     ]
    },
    {
     "data": {
      "image/png": "[encoded data removed]",
      "text/latex": [
       "$\\displaystyle R_{x} = - D \\cos{\\left(\\alpha \\right)} + m_{r} \\left(- L \\sin{\\left(\\theta \\right)} \\dot{\\theta}^{2} + L \\cos{\\left(\\theta \\right)} \\ddot{\\theta} + \\ddot{x}\\right)$"
      ],
      "text/plain": [
       "                    ⎛            2                 ⎞\n",
       "Rₓ = -D⋅cos(α) + mᵣ⋅⎝- L⋅sin(θ)⋅θ̇  + L⋅cos(θ)⋅θ̈ + ẍ⎠"
      ]
     },
     "metadata": {},
     "output_type": "display_data"
    },
    {
     "data": {
      "image/png": "[encoded data removed]",
      "text/latex": [
       "$\\displaystyle R_{y} = D \\sin{\\left(\\alpha \\right)} - L m_{r} \\left(\\sin{\\left(\\theta \\right)} \\ddot{\\theta} + \\cos{\\left(\\theta \\right)} \\dot{\\theta}^{2}\\right) + g m_{r}$"
      ],
      "text/plain": [
       "                      ⎛                   2⎞       \n",
       "R_y = D⋅sin(α) - L⋅mᵣ⋅⎝sin(θ)⋅θ̈ + cos(θ)⋅θ̇ ⎠ + g⋅mᵣ"
      ]
     },
     "metadata": {},
     "output_type": "display_data"
    }
   ],
   "source": [
    "print('Some results')\n",
    "print('-----------------------------------')\n",
    "print('1. f_trolley_eq') \n",
    "f_trolley_eq = f_trolley_eq.expand()\n",
    "disp(f_trolley_eq)\n",
    "print('2. bilans_momentów')\n",
    "bilans_momentow = bilans_momentow.expand()\n",
    "disp(bilans_momentow)\n",
    "print('3. Reaction forces')\n",
    "disp(smp.Eq(Rx, Rx_expr))\n",
    "disp(smp.Eq(Ry, Ry_expr))"
   ]
  },
  {
   "cell_type": "code",
   "execution_count": 22,
   "metadata": {
    "tags": []
   },
   "outputs": [
    {
     "data": {
      "image/png": "[encoded data removed]",
      "text/latex": [
       "$\\displaystyle M \\ddot{x} = D \\cos{\\left(\\alpha \\right)} + L m_{r} \\sin{\\left(\\theta \\right)} \\dot{\\theta}^{2} - L m_{r} \\cos{\\left(\\theta \\right)} \\ddot{\\theta} - b \\dot{x} - m_{r} \\ddot{x} + u$"
      ],
      "text/plain": [
       "                              2                                 \n",
       "M⋅ẍ = D⋅cos(α) + L⋅mᵣ⋅sin(θ)⋅θ̇  - L⋅mᵣ⋅cos(θ)⋅θ̈ - b⋅ẋ - mᵣ⋅ẍ + u"
      ]
     },
     "execution_count": 22,
     "metadata": {},
     "output_type": "execute_result"
    }
   ],
   "source": [
    "f_trolley_eq = f_trolley_eq.subs([(Rx, Rx_expr),\n",
    "                                  (Ry, Ry_expr)])\n",
    "f_trolley_eq.expand()"
   ]
  },
  {
   "cell_type": "code",
   "execution_count": 23,
   "metadata": {
    "tags": []
   },
   "outputs": [
    {
     "data": {
      "image/png": "[encoded data removed]",
      "text/latex": [
       "$\\displaystyle J_{cm} \\ddot{\\theta} = D L \\cos{\\left(\\alpha - \\theta \\right)} + D \\sin{\\left(\\alpha + \\frac{\\pi}{4} \\right)} - L^{2} m_{r} \\ddot{\\theta} - L g m_{c} \\sin{\\left(\\theta \\right)} - L g m_{p} \\sin{\\left(\\theta \\right)} + L g m_{r} \\sin{\\left(\\theta \\right)} - L m_{r} \\cos{\\left(\\theta \\right)} \\ddot{x} + L_{c} g m_{c} \\sin{\\left(\\theta \\right)} + L_{p} g m_{p} \\sin{\\left(\\theta \\right)} - \\gamma \\dot{\\theta}$"
      ],
      "text/plain": [
       "                                 ⎛    π⎞    2                                 \n",
       "J_{cm}⋅θ̈ = D⋅L⋅cos(α - θ) + D⋅sin⎜α + ─⎟ - L ⋅mᵣ⋅θ̈ - L⋅g⋅m_c⋅sin(θ) - L⋅g⋅mₚ\n",
       "                                 ⎝    4⎠                                      \n",
       "\n",
       "                                                                              \n",
       "⋅sin(θ) + L⋅g⋅mᵣ⋅sin(θ) - L⋅mᵣ⋅cos(θ)⋅ẍ + L_c⋅g⋅m_c⋅sin(θ) + Lₚ⋅g⋅mₚ⋅sin(θ) -\n",
       "                                                                              \n",
       "\n",
       " \n",
       " γ⋅θ̇\n",
       " "
      ]
     },
     "execution_count": 23,
     "metadata": {},
     "output_type": "execute_result"
    }
   ],
   "source": [
    "bilans_momentow = bilans_momentow.subs([(Rx, Rx_expr),\n",
    "                                        (Ry, Ry_expr)])\n",
    "bilans_momentow.simplify().expand()"
   ]
  },
  {
   "cell_type": "code",
   "execution_count": 24,
   "metadata": {},
   "outputs": [
    {
     "name": "stdout",
     "output_type": "stream",
     "text": [
      "Torques expanded:\n"
     ]
    },
    {
     "data": {
      "image/png": "[encoded data removed]",
      "text/latex": [
       "$\\displaystyle J_{cm} \\ddot{\\theta} = D L \\cos{\\left(\\alpha - \\theta \\right)} + D \\sin{\\left(\\alpha + \\frac{\\pi}{4} \\right)} - L^{2} m_{c} \\ddot{\\theta} - L^{2} m_{p} \\ddot{\\theta} - L m_{c} \\cos{\\left(\\theta \\right)} \\ddot{x} - L m_{p} \\cos{\\left(\\theta \\right)} \\ddot{x} + L_{c} g m_{c} \\sin{\\left(\\theta \\right)} + L_{p} g m_{p} \\sin{\\left(\\theta \\right)} - \\gamma \\dot{\\theta}$"
      ],
      "text/plain": [
       "                                 ⎛    π⎞    2          2                      \n",
       "J_{cm}⋅θ̈ = D⋅L⋅cos(α - θ) + D⋅sin⎜α + ─⎟ - L ⋅m_c⋅θ̈ - L ⋅mₚ⋅θ̈ - L⋅m_c⋅cos(θ\n",
       "                                 ⎝    4⎠                                      \n",
       "\n",
       "                                                          \n",
       ")⋅ẍ - L⋅mₚ⋅cos(θ)⋅ẍ + L_c⋅g⋅m_c⋅sin(θ) + Lₚ⋅g⋅mₚ⋅sin(θ) - γ⋅θ̇\n",
       "                                                          "
      ]
     },
     "execution_count": 24,
     "metadata": {},
     "output_type": "execute_result"
    }
   ],
   "source": [
    "print('Torques expanded:')\n",
    "bilans_momentow.subs(m_r, m_c+m_p).expand().simplify()"
   ]
  },
  {
   "cell_type": "code",
   "execution_count": 25,
   "metadata": {},
   "outputs": [],
   "source": [
    "J_cm_calosciowe = smp.Rational(1, 3)*m_p*(2*L_p)**2 + m_c*L_c**2 - m_r*L**2"
   ]
  },
  {
   "cell_type": "code",
   "execution_count": 26,
   "metadata": {},
   "outputs": [
    {
     "data": {
      "image/png": "[encoded data removed]",
      "text/latex": [
       "$\\displaystyle - L^{2} m_{r} + L_{c}^{2} m_{c} + \\frac{4 L_{p}^{2} m_{p}}{3}$"
      ],
      "text/plain": [
       "                         2   \n",
       "   2         2       4⋅Lₚ ⋅mₚ\n",
       "- L ⋅mᵣ + L_c ⋅m_c + ────────\n",
       "                        3    "
      ]
     },
     "execution_count": 26,
     "metadata": {},
     "output_type": "execute_result"
    }
   ],
   "source": [
    "J_cm_calosciowe"
   ]
  },
  {
   "cell_type": "code",
   "execution_count": 27,
   "metadata": {},
   "outputs": [
    {
     "data": {
      "image/png": "[encoded data removed]",
      "text/latex": [
       "$\\displaystyle J_{cm} = L_{c}^{2} m_{c} + \\frac{4 L_{p}^{2} m_{p}}{3} - \\frac{\\left(L_{c} m_{c} + L_{p} m_{p}\\right)^{2}}{m_{r}}$"
      ],
      "text/plain": [
       "                        2                       2\n",
       "            2       4⋅Lₚ ⋅mₚ   (L_c⋅m_c + Lₚ⋅mₚ) \n",
       "J_{cm} = L_c ⋅m_c + ──────── - ──────────────────\n",
       "                       3               mᵣ        "
      ]
     },
     "execution_count": 27,
     "metadata": {},
     "output_type": "execute_result"
    }
   ],
   "source": [
    "J_cm_calosciowe = J_cm_calosciowe.subs(L, L_cm_ramienia)\n",
    "\n",
    "smp.Eq(\n",
    "    J_cm,\n",
    "    J_cm_calosciowe\n",
    ")"
   ]
  },
  {
   "cell_type": "code",
   "execution_count": 28,
   "metadata": {},
   "outputs": [
    {
     "data": {
      "image/png": "[encoded data removed]",
      "text/latex": [
       "$\\displaystyle J_{cm} = \\frac{L_{p}^{2} \\cdot \\left(\\frac{4 m_{r} \\left(3 m_{c} + m_{p}\\right)}{3} - \\left(2 m_{c} + m_{p}\\right)^{2}\\right)}{m_{r}}$"
      ],
      "text/plain": [
       "           2 ⎛4⋅mᵣ⋅(3⋅m_c + mₚ)               2⎞\n",
       "         Lₚ ⋅⎜───────────────── - (2⋅m_c + mₚ) ⎟\n",
       "             ⎝        3                        ⎠\n",
       "J_{cm} = ───────────────────────────────────────\n",
       "                            mᵣ                  "
      ]
     },
     "execution_count": 28,
     "metadata": {},
     "output_type": "execute_result"
    }
   ],
   "source": [
    "# Lc = 2Lp\n",
    "J_cm_calosciowe_mc_na_koncu = J_cm_calosciowe.subs(L_c, 2*L_p)\n",
    "smp.Eq(\n",
    "    J_cm,\n",
    "    J_cm_calosciowe_mc_na_koncu\n",
    ").simplify()"
   ]
  },
  {
   "cell_type": "code",
   "execution_count": 29,
   "metadata": {},
   "outputs": [
    {
     "data": {
      "image/png": "[encoded data removed]",
      "text/latex": [
       "$\\displaystyle - \\frac{4 L_{p}^{2} m_{c}^{2}}{m_{r}} - \\frac{4 L_{p}^{2} m_{c} m_{p}}{m_{r}} + 4 L_{p}^{2} m_{c} - \\frac{L_{p}^{2} m_{p}^{2}}{m_{r}} + \\frac{4 L_{p}^{2} m_{p}}{3}$"
      ],
      "text/plain": [
       "      2    2       2                        2   2       2   \n",
       "  4⋅Lₚ ⋅m_c    4⋅Lₚ ⋅m_c⋅mₚ       2       Lₚ ⋅mₚ    4⋅Lₚ ⋅mₚ\n",
       "- ────────── - ──────────── + 4⋅Lₚ ⋅m_c - ─────── + ────────\n",
       "      mᵣ            mᵣ                       mᵣ        3    "
      ]
     },
     "execution_count": 29,
     "metadata": {},
     "output_type": "execute_result"
    }
   ],
   "source": [
    "J_cm_calosciowe_mc_na_koncu.expand()"
   ]
  },
  {
   "attachments": {},
   "cell_type": "markdown",
   "metadata": {},
   "source": [
    "## <b> Results\n",
    "\n",
    "\\begin{equation}\n",
    "    (M + m_r) \\ddot{x} + Lm_rcos(\\theta)\\ddot{\\theta} + b\\dot{x}-Lm_r\\sin(\\theta)\\dot{\\theta}^2 \n",
    "    = u + D\\cos(\\alpha)\n",
    "\\end{equation}\n",
    "\n",
    "\\begin{equation}\n",
    "    (J_{cm} + m_rL^2)\\ddot{\\theta} + m_rL\\cos(\\theta)\\ddot{x} + \\gamma\\dot{\\theta} - m_rgL\\sin(\\theta)\n",
    "    = DL\\cos(\\alpha-\\theta) + D\\sin(\\alpha + \\frac{\\pi}{4})\n",
    "\\end{equation}"
   ]
  },
  {
   "attachments": {},
   "cell_type": "markdown",
   "metadata": {},
   "source": [
    "\n",
    "\\begin{equation}\n",
    "    \\begin{split}\n",
    "        & L = \\frac{L_pm_p + L_cm_c}{m_r} \\\\\n",
    "        & m_r = m_p + m_c \\\\\n",
    "        & m_r = m_p + m_c \\\\\n",
    "        & M_t = M+m_r \\\\\n",
    "        & J_t = J_{cm} + m_rL^2 \\\\\n",
    "        & J_{cm} = \\frac{4}{3}m_p L_p^2 + m_cL_c^2 -L^2m_r \n",
    "    \\end{split}\n",
    "\\end{equation}"
   ]
  },
  {
   "attachments": {},
   "cell_type": "markdown",
   "metadata": {},
   "source": [
    "    \n",
    "\\begin{equation}\n",
    "    \\begin{bmatrix}\n",
    "        M_t & m_rL\\cos(\\theta)\\\\\n",
    "        m_rL\\cos(\\theta) & J_t \n",
    "    \\end{bmatrix}\n",
    "    \\begin{bmatrix}\n",
    "        \\ddot{x}\\\\\n",
    "        \\ddot{\\theta}\n",
    "    \\end{bmatrix}\n",
    "    +\n",
    "    \\begin{bmatrix}\n",
    "        b\\dot{x} - Lm_r\\sin(\\theta)\\dot{\\theta}^2\\\\\n",
    "        \\gamma\\dot{\\theta} - m_r g L\\sin(\\theta)\n",
    "    \\end{bmatrix}\n",
    "    =\n",
    "    \\begin{bmatrix}\n",
    "        u\\\\\n",
    "        0\n",
    "    \\end{bmatrix}\n",
    "    +\n",
    "    \\begin{bmatrix}\n",
    "        \\cos(\\alpha)\\\\\n",
    "        L\\cos(\\alpha-\\theta) + \\sin(\\alpha + \\frac{\\pi}{4})\n",
    "    \\end{bmatrix}\n",
    "\\end{equation}"
   ]
  },
  {
   "attachments": {},
   "cell_type": "markdown",
   "metadata": {},
   "source": [
    "\n",
    "\\begin{equation}\n",
    "    AB+C = D+E\n",
    "\\end{equation}"
   ]
  },
  {
   "attachments": {},
   "cell_type": "markdown",
   "metadata": {},
   "source": [
    "$\\ddot{x}, \\ddot{\\theta}$ can be calculated as follows\n",
    "\\begin{equation}\n",
    "    \\begin{bmatrix}\n",
    "        \\ddot{x}\\\\\n",
    "        \\ddot{\\theta}\n",
    "    \\end{bmatrix}\n",
    "    =\n",
    "    B\n",
    "    =\n",
    "    A^{-1}\n",
    "    \\left(\n",
    "    D+E-C\n",
    "    \\right)\n",
    "\\end{equation}"
   ]
  },
  {
   "cell_type": "code",
   "execution_count": 30,
   "metadata": {
    "tags": []
   },
   "outputs": [],
   "source": [
    "Mt, Jt = smp.symbols('M_t J_t')\n",
    "\n",
    "Am = smp.Matrix([\n",
    "    [Mt, m_r*L*cos(theta)],\n",
    "    [m_r*L*cos(theta), Jt]\n",
    "])\n",
    "Bm = smp.Matrix([\n",
    "    [DDx],\n",
    "    [DDtheta]\n",
    "])\n",
    "Cm = smp.Matrix([\n",
    "    [b*Dx - m_r*L*sin(theta)*Dtheta**2 ],\n",
    "    [gamma*Dtheta - m_r*g*L*sin(theta)]\n",
    "])\n",
    "Dm = smp.Matrix([\n",
    "    [u],\n",
    "    [0]\n",
    "])\n",
    "Em = smp.Matrix([\n",
    "    [D * cos(alpha)],\n",
    "    [D * ( L*cos(alpha-theta) + sin(alpha + smp.pi/4) )]\n",
    "])"
   ]
  },
  {
   "cell_type": "code",
   "execution_count": 31,
   "metadata": {},
   "outputs": [],
   "source": [
    "# x and theta second derivative in terms of state variables x theta xdot thetadot\n",
    "DDx_DDtheta_rozwiazanie = Am.inv() * (Dm + Em - Cm)"
   ]
  },
  {
   "cell_type": "code",
   "execution_count": 32,
   "metadata": {},
   "outputs": [
    {
     "data": {
      "image/png": "[encoded data removed]",
      "text/latex": [
       "$\\displaystyle \\ddot{x} = \\frac{J_{t} \\left(D \\cos{\\left(\\alpha \\right)} + L m_{r} \\sin{\\left(\\theta \\right)} \\dot{\\theta}^{2} - b \\dot{x} + u\\right) - L m_{r} \\left(D \\left(L \\cos{\\left(\\alpha - \\theta \\right)} + \\sin{\\left(\\alpha + \\frac{\\pi}{4} \\right)}\\right) + L g m_{r} \\sin{\\left(\\theta \\right)} - \\gamma \\dot{\\theta}\\right) \\cos{\\left(\\theta \\right)}}{J_{t} M_{t} - L^{2} m_{r}^{2} \\cos^{2}{\\left(\\theta \\right)}}$"
      ],
      "text/plain": [
       "       ⎛                        2          ⎞        ⎛  ⎛                  ⎛   \n",
       "    Jₜ⋅⎝D⋅cos(α) + L⋅mᵣ⋅sin(θ)⋅θ̇  - b⋅ẋ + u⎠ - L⋅mᵣ⋅⎜D⋅⎜L⋅cos(α - θ) + sin⎜α\n",
       "                                                    ⎝  ⎝                  ⎝   \n",
       "ẍ = ─────────────────────────────────────────────────────────────────────────\n",
       "                                                        2   2    2            \n",
       "                                               Jₜ⋅Mₜ - L ⋅mᵣ ⋅cos (θ)         \n",
       "\n",
       " π⎞⎞                      ⎞       \n",
       " + ─⎟⎟ + L⋅g⋅mᵣ⋅sin(θ) - γ⋅θ̇⎟⋅cos(θ)\n",
       " 4⎠⎠                      ⎠       \n",
       "───────────────────────────────────\n",
       "                                  \n",
       "                                  "
      ]
     },
     "execution_count": 32,
     "metadata": {},
     "output_type": "execute_result"
    }
   ],
   "source": [
    "x_ddot_result = DDx_DDtheta_rozwiazanie[0].simplify()\n",
    "smp.Eq(\n",
    "    DDx,\n",
    "    x_ddot_result\n",
    ")"
   ]
  },
  {
   "cell_type": "code",
   "execution_count": 35,
   "metadata": {},
   "outputs": [
    {
     "name": "stdout",
     "output_type": "stream",
     "text": [
      "\\frac{d^{2}}{d t^{2}} x{\\left(t \\right)} = \\frac{J_{t} \\left(D \\cos{\\left(\\alpha{\\left(t \\right)} \\right)} + L m_{r} \\sin{\\left(\\theta{\\left(t \\right)} \\right)} \\left(\\frac{d}{d t} \\theta{\\left(t \\right)}\\right)^{2} - b \\frac{d}{d t} x{\\left(t \\right)} + u{\\left(t \\right)}\\right) - L m_{r} \\left(D \\left(L \\cos{\\left(\\alpha{\\left(t \\right)} - \\theta{\\left(t \\right)} \\right)} + \\sin{\\left(\\alpha{\\left(t \\right)} + \\frac{\\pi}{4} \\right)}\\right) + L g m_{r} \\sin{\\left(\\theta{\\left(t \\right)} \\right)} - \\gamma \\frac{d}{d t} \\theta{\\left(t \\right)}\\right) \\cos{\\left(\\theta{\\left(t \\right)} \\right)}}{J_{t} M_{t} - L^{2} m_{r}^{2} \\cos^{2}{\\left(\\theta{\\left(t \\right)} \\right)}}\n"
     ]
    }
   ],
   "source": [
    "print_latex(smp.Eq(\n",
    "    DDx,\n",
    "    x_ddot_result\n",
    "))"
   ]
  },
  {
   "cell_type": "code",
   "execution_count": 36,
   "metadata": {
    "tags": []
   },
   "outputs": [
    {
     "data": {
      "image/png": "[encoded data removed]",
      "text/latex": [
       "$\\displaystyle \\ddot{\\theta} = \\frac{- L m_{r} \\left(D \\cos{\\left(\\alpha \\right)} + L m_{r} \\sin{\\left(\\theta \\right)} \\dot{\\theta}^{2} - b \\dot{x} + u\\right) \\cos{\\left(\\theta \\right)} + M_{t} \\left(D \\left(L \\cos{\\left(\\alpha - \\theta \\right)} + \\sin{\\left(\\alpha + \\frac{\\pi}{4} \\right)}\\right) + L g m_{r} \\sin{\\left(\\theta \\right)} - \\gamma \\dot{\\theta}\\right)}{J_{t} M_{t} - L^{2} m_{r}^{2} \\cos^{2}{\\left(\\theta \\right)}}$"
      ],
      "text/plain": [
       "           ⎛                        2          ⎞             ⎛  ⎛             \n",
       "    - L⋅mᵣ⋅⎝D⋅cos(α) + L⋅mᵣ⋅sin(θ)⋅θ̇  - b⋅ẋ + u⎠⋅cos(θ) + Mₜ⋅⎜D⋅⎜L⋅cos(α - θ\n",
       "                                                             ⎝  ⎝             \n",
       "θ̈ = ─────────────────────────────────────────────────────────────────────────\n",
       "                                                         2   2    2           \n",
       "                                                Jₜ⋅Mₜ - L ⋅mᵣ ⋅cos (θ)        \n",
       "\n",
       "     ⎛    π⎞⎞                      ⎞\n",
       ") + sin⎜α + ─⎟⎟ + L⋅g⋅mᵣ⋅sin(θ) - γ⋅θ̇⎟\n",
       "     ⎝    4⎠⎠                      ⎠\n",
       "─────────────────────────────────────\n",
       "                                    \n",
       "                                    "
      ]
     },
     "execution_count": 36,
     "metadata": {},
     "output_type": "execute_result"
    }
   ],
   "source": [
    "theta_ddot_result = DDx_DDtheta_rozwiazanie[1].simplify()\n",
    "smp.Eq(\n",
    "    DDtheta,\n",
    "    theta_ddot_result\n",
    ")"
   ]
  },
  {
   "cell_type": "code",
   "execution_count": 37,
   "metadata": {},
   "outputs": [
    {
     "data": {
      "text/plain": [
       "'State vector.'"
      ]
     },
     "metadata": {},
     "output_type": "display_data"
    },
    {
     "data": {
      "image/png": "[encoded data removed]",
      "text/latex": [
       "$\\displaystyle \\left[\\begin{matrix}x_{1}\\\\x_{2}\\\\x_{3}\\\\x_{4}\\end{matrix}\\right] = \\left[\\begin{matrix}x\\\\\\theta\\\\\\dot{x}\\\\\\dot{\\theta}\\end{matrix}\\right]$"
      ],
      "text/plain": [
       "⎡x₁⎤   ⎡x⎤\n",
       "⎢  ⎥   ⎢ ⎥\n",
       "⎢x₂⎥   ⎢θ⎥\n",
       "⎢  ⎥ = ⎢ ⎥\n",
       "⎢x₃⎥   ⎢ẋ⎥\n",
       "⎢  ⎥   ⎢ ⎥\n",
       "⎣x₄⎦   ⎣θ̇⎦"
      ]
     },
     "metadata": {},
     "output_type": "display_data"
    },
    {
     "data": {
      "image/png": "[encoded data removed]",
      "text/latex": [
       "$\\displaystyle \\left[\\begin{matrix}\\dot{x}\\\\\\dot{\\theta}\\\\\\ddot{x}\\\\\\ddot{\\theta}\\end{matrix}\\right] = \\left[\\begin{matrix}\\dot{x}\\\\\\dot{\\theta}\\\\\\frac{J_{t} \\left(D \\cos{\\left(\\alpha \\right)} + L m_{r} \\sin{\\left(\\theta \\right)} \\dot{\\theta}^{2} - b \\dot{x} + u\\right) - L m_{r} \\left(D \\left(L \\cos{\\left(\\alpha - \\theta \\right)} + \\sin{\\left(\\alpha + \\frac{\\pi}{4} \\right)}\\right) + L g m_{r} \\sin{\\left(\\theta \\right)} - \\gamma \\dot{\\theta}\\right) \\cos{\\left(\\theta \\right)}}{J_{t} M_{t} - L^{2} m_{r}^{2} \\cos^{2}{\\left(\\theta \\right)}}\\\\\\frac{- L m_{r} \\left(D \\cos{\\left(\\alpha \\right)} + L m_{r} \\sin{\\left(\\theta \\right)} \\dot{\\theta}^{2} - b \\dot{x} + u\\right) \\cos{\\left(\\theta \\right)} + M_{t} \\left(D \\left(L \\cos{\\left(\\alpha - \\theta \\right)} + \\sin{\\left(\\alpha + \\frac{\\pi}{4} \\right)}\\right) + L g m_{r} \\sin{\\left(\\theta \\right)} - \\gamma \\dot{\\theta}\\right)}{J_{t} M_{t} - L^{2} m_{r}^{2} \\cos^{2}{\\left(\\theta \\right)}}\\end{matrix}\\right]$"
      ],
      "text/plain": [
       "      ⎡                                                      ẋ               \n",
       "      ⎢                                                                       \n",
       "      ⎢                                                      θ̇               \n",
       "      ⎢                                                                       \n",
       "      ⎢    ⎛                        2          ⎞        ⎛  ⎛                  \n",
       "⎡ẋ⎤   ⎢ Jₜ⋅⎝D⋅cos(α) + L⋅mᵣ⋅sin(θ)⋅θ̇  - b⋅ẋ + u⎠ - L⋅mᵣ⋅⎜D⋅⎜L⋅cos(α - θ) + \n",
       "⎢ ⎥   ⎢                                                 ⎝  ⎝                  \n",
       "⎢θ̇⎥   ⎢ ─────────────────────────────────────────────────────────────────────\n",
       "⎢ ⎥ = ⎢                                                     2   2    2        \n",
       "⎢ẍ⎥   ⎢                                            Jₜ⋅Mₜ - L ⋅mᵣ ⋅cos (θ)    \n",
       "⎢ ⎥   ⎢                                                                       \n",
       "⎣θ̈⎦   ⎢       ⎛                        2          ⎞             ⎛  ⎛         \n",
       "      ⎢- L⋅mᵣ⋅⎝D⋅cos(α) + L⋅mᵣ⋅sin(θ)⋅θ̇  - b⋅ẋ + u⎠⋅cos(θ) + Mₜ⋅⎜D⋅⎜L⋅cos(α \n",
       "      ⎢                                                         ⎝  ⎝          \n",
       "      ⎢───────────────────────────────────────────────────────────────────────\n",
       "      ⎢                                                     2   2    2        \n",
       "      ⎣                                            Jₜ⋅Mₜ - L ⋅mᵣ ⋅cos (θ)     \n",
       "\n",
       "                                        ⎤\n",
       "                                       ⎥\n",
       "                                        ⎥\n",
       "                                       ⎥\n",
       "⎛    π⎞⎞                      ⎞        ⎥\n",
       "sin⎜α + ─⎟⎟ + L⋅g⋅mᵣ⋅sin(θ) - γ⋅θ̇⎟⋅cos(θ) ⎥\n",
       "⎝    4⎠⎠                      ⎠        ⎥\n",
       "─────────────────────────────────────── ⎥\n",
       "                                       ⎥\n",
       "                                        ⎥\n",
       "                                       ⎥\n",
       "         ⎛    π⎞⎞                      ⎞⎥\n",
       "- θ) + sin⎜α + ─⎟⎟ + L⋅g⋅mᵣ⋅sin(θ) - γ⋅θ̇⎟⎥\n",
       "        ⎝    4⎠⎠                      ⎠⎥\n",
       "───────────────────────────────────────⎥\n",
       "                                       ⎥\n",
       "                                       ⎦"
      ]
     },
     "metadata": {},
     "output_type": "display_data"
    }
   ],
   "source": [
    "# State space representation\n",
    "x1, x2, x3, x4 = smp.symbols('x_1 x_2 x_3 x_4', cls=smp.Function)\n",
    "x1 = x1(t); x2 = x2(t); x3 = x3(t); x4 = x4(t) \n",
    "\n",
    "# state vector, x1 x2 x3 x4\n",
    "state_vec = smp.Matrix([\n",
    "    [x1],\n",
    "    [x2],\n",
    "    [x3],\n",
    "    [x4]\n",
    "])\n",
    "\n",
    "# state vector, x theta ...\n",
    "state_vec_noraml = smp.Matrix([\n",
    "    [x],\n",
    "    [theta],\n",
    "    [Dx],\n",
    "    [Dtheta]\n",
    "])\n",
    "disp('State vector.')\n",
    "disp(\n",
    "    smp.Eq(state_vec, state_vec_noraml)\n",
    ")\n",
    "\n",
    "# State equations\n",
    "state_vec_diff = state_vec.diff(t)\n",
    "state_vec_noraml_diff = state_vec_noraml.diff(t)\n",
    "\n",
    "state_equations_normal = smp.Matrix([\n",
    "    [Dx],\n",
    "    [Dtheta],\n",
    "    [x_ddot_result],\n",
    "    [theta_ddot_result]\n",
    "])\n",
    "disp(\n",
    "    smp.Eq(\n",
    "        state_vec_noraml_diff,\n",
    "        state_equations_normal\n",
    "    )\n",
    ")\n",
    "\n",
    "# disp(\n",
    "#     smp.Eq(\n",
    "#         state_vec_diff,\n",
    "#         state_equations.subs([(theta), ()])\n",
    "#     )\n",
    "# )"
   ]
  },
  {
   "cell_type": "code",
   "execution_count": null,
   "metadata": {},
   "outputs": [
    {
     "name": "stdout",
     "output_type": "stream",
     "text": [
      "state_vec_noraml:\n"
     ]
    },
    {
     "data": {
      "image/png": "[encoded data removed]",
      "text/latex": [
       "$\\displaystyle \\left[\\begin{matrix}x\\\\\\theta\\\\\\dot{x}\\\\\\dot{\\theta}\\end{matrix}\\right]$"
      ],
      "text/plain": [
       "⎡x⎤\n",
       "⎢ ⎥\n",
       "⎢θ⎥\n",
       "⎢ ⎥\n",
       "⎢ẋ⎥\n",
       "⎢ ⎥\n",
       "⎣θ̇⎦"
      ]
     },
     "metadata": {},
     "output_type": "display_data"
    },
    {
     "name": "stdout",
     "output_type": "stream",
     "text": [
      "state_equations_normal:\n"
     ]
    },
    {
     "data": {
      "image/png": "[encoded data removed]",
      "text/latex": [
       "$\\displaystyle \\left[\\begin{matrix}\\dot{x}\\\\\\dot{\\theta}\\\\\\frac{J_{t} \\left(D \\cos{\\left(\\alpha \\right)} + L m_{r} \\sin{\\left(\\theta \\right)} \\dot{\\theta}^{2} - b \\dot{x} + u\\right) - L m_{r} \\left(D \\left(L \\cos{\\left(\\alpha - \\theta \\right)} + \\sin{\\left(\\alpha + \\frac{\\pi}{4} \\right)}\\right) + L g m_{r} \\sin{\\left(\\theta \\right)} - \\gamma \\dot{\\theta}\\right) \\cos{\\left(\\theta \\right)}}{J_{t} M_{t} - L^{2} m_{r}^{2} \\cos^{2}{\\left(\\theta \\right)}}\\\\\\frac{- L m_{r} \\left(D \\cos{\\left(\\alpha \\right)} + L m_{r} \\sin{\\left(\\theta \\right)} \\dot{\\theta}^{2} - b \\dot{x} + u\\right) \\cos{\\left(\\theta \\right)} + M_{t} \\left(D \\left(L \\cos{\\left(\\alpha - \\theta \\right)} + \\sin{\\left(\\alpha + \\frac{\\pi}{4} \\right)}\\right) + L g m_{r} \\sin{\\left(\\theta \\right)} - \\gamma \\dot{\\theta}\\right)}{J_{t} M_{t} - L^{2} m_{r}^{2} \\cos^{2}{\\left(\\theta \\right)}}\\end{matrix}\\right]$"
      ],
      "text/plain": [
       "⎡                                                      ẋ                     \n",
       "⎢                                                                             \n",
       "⎢                                                      θ̇                     \n",
       "⎢                                                                             \n",
       "⎢    ⎛                        2          ⎞        ⎛  ⎛                  ⎛    π\n",
       "⎢ Jₜ⋅⎝D⋅cos(α) + L⋅mᵣ⋅sin(θ)⋅θ̇  - b⋅ẋ + u⎠ - L⋅mᵣ⋅⎜D⋅⎜L⋅cos(α - θ) + sin⎜α +\n",
       "⎢                                                 ⎝  ⎝                  ⎝    4\n",
       "⎢ ────────────────────────────────────────────────────────────────────────────\n",
       "⎢                                                     2   2    2              \n",
       "⎢                                            Jₜ⋅Mₜ - L ⋅mᵣ ⋅cos (θ)           \n",
       "⎢                                                                             \n",
       "⎢       ⎛                        2          ⎞             ⎛  ⎛                \n",
       "⎢- L⋅mᵣ⋅⎝D⋅cos(α) + L⋅mᵣ⋅sin(θ)⋅θ̇  - b⋅ẋ + u⎠⋅cos(θ) + Mₜ⋅⎜D⋅⎜L⋅cos(α - θ) +\n",
       "⎢                                                         ⎝  ⎝                \n",
       "⎢─────────────────────────────────────────────────────────────────────────────\n",
       "⎢                                                     2   2    2              \n",
       "⎣                                            Jₜ⋅Mₜ - L ⋅mᵣ ⋅cos (θ)           \n",
       "\n",
       "                                  ⎤\n",
       "                                 ⎥\n",
       "                                  ⎥\n",
       "                                 ⎥\n",
       "⎞⎞                      ⎞        ⎥\n",
       " ─⎟⎟ + L⋅g⋅mᵣ⋅sin(θ) - γ⋅θ̇⎟⋅cos(θ) ⎥\n",
       "⎠⎠                      ⎠        ⎥\n",
       "──────────────────────────────── ⎥\n",
       "                                 ⎥\n",
       "                                 ⎥\n",
       "                                 ⎥\n",
       "  ⎛    π⎞⎞                      ⎞⎥\n",
       " sin⎜α + ─⎟⎟ + L⋅g⋅mᵣ⋅sin(θ) - γ⋅θ̇⎟⎥\n",
       "  ⎝    4⎠⎠                      ⎠⎥\n",
       "─────────────────────────────────⎥\n",
       "                                 ⎥\n",
       "                                 ⎦"
      ]
     },
     "metadata": {},
     "output_type": "display_data"
    },
    {
     "name": "stdout",
     "output_type": "stream",
     "text": [
      "state_vec:\n"
     ]
    },
    {
     "data": {
      "image/png": "[encoded data removed]",
      "text/latex": [
       "$\\displaystyle \\left[\\begin{matrix}x_{1}\\\\x_{2}\\\\x_{3}\\\\x_{4}\\end{matrix}\\right]$"
      ],
      "text/plain": [
       "⎡x₁⎤\n",
       "⎢  ⎥\n",
       "⎢x₂⎥\n",
       "⎢  ⎥\n",
       "⎢x₃⎥\n",
       "⎢  ⎥\n",
       "⎣x₄⎦"
      ]
     },
     "metadata": {},
     "output_type": "display_data"
    },
    {
     "name": "stdout",
     "output_type": "stream",
     "text": [
      "state_equations\n"
     ]
    },
    {
     "data": {
      "image/png": "[encoded data removed]",
      "text/latex": [
       "$\\displaystyle \\left[\\begin{matrix}x_{3}\\\\x_{4}\\\\\\frac{J_{t} \\left(D \\cos{\\left(\\alpha \\right)} + L m_{r} x_{4}^{2} \\sin{\\left(x_{2} \\right)} - b x_{3} + u\\right) - L m_{r} \\left(D \\left(L \\cos{\\left(\\alpha - x_{2} \\right)} + \\sin{\\left(\\alpha + \\frac{\\pi}{4} \\right)}\\right) + L g m_{r} \\sin{\\left(x_{2} \\right)} - \\gamma x_{4}\\right) \\cos{\\left(x_{2} \\right)}}{J_{t} M_{t} - L^{2} m_{r}^{2} \\cos^{2}{\\left(x_{2} \\right)}}\\\\\\frac{- L m_{r} \\left(D \\cos{\\left(\\alpha \\right)} + L m_{r} x_{4}^{2} \\sin{\\left(x_{2} \\right)} - b x_{3} + u\\right) \\cos{\\left(x_{2} \\right)} + M_{t} \\left(D \\left(L \\cos{\\left(\\alpha - x_{2} \\right)} + \\sin{\\left(\\alpha + \\frac{\\pi}{4} \\right)}\\right) + L g m_{r} \\sin{\\left(x_{2} \\right)} - \\gamma x_{4}\\right)}{J_{t} M_{t} - L^{2} m_{r}^{2} \\cos^{2}{\\left(x_{2} \\right)}}\\end{matrix}\\right]$"
      ],
      "text/plain": [
       "⎡                                                         x₃                  \n",
       "⎢                                                                             \n",
       "⎢                                                         x₄                  \n",
       "⎢                                                                             \n",
       "⎢    ⎛                  2                   ⎞        ⎛  ⎛                   ⎛ \n",
       "⎢ Jₜ⋅⎝D⋅cos(α) + L⋅mᵣ⋅x₄ ⋅sin(x₂) - b⋅x₃ + u⎠ - L⋅mᵣ⋅⎜D⋅⎜L⋅cos(α - x₂) + sin⎜α\n",
       "⎢                                                    ⎝  ⎝                   ⎝ \n",
       "⎢ ────────────────────────────────────────────────────────────────────────────\n",
       "⎢                                                        2   2    2           \n",
       "⎢                                               Jₜ⋅Mₜ - L ⋅mᵣ ⋅cos (x₂)       \n",
       "⎢                                                                             \n",
       "⎢       ⎛                  2                   ⎞              ⎛  ⎛            \n",
       "⎢- L⋅mᵣ⋅⎝D⋅cos(α) + L⋅mᵣ⋅x₄ ⋅sin(x₂) - b⋅x₃ + u⎠⋅cos(x₂) + Mₜ⋅⎜D⋅⎜L⋅cos(α - x₂\n",
       "⎢                                                             ⎝  ⎝            \n",
       "⎢─────────────────────────────────────────────────────────────────────────────\n",
       "⎢                                                        2   2    2           \n",
       "⎣                                               Jₜ⋅Mₜ - L ⋅mᵣ ⋅cos (x₂)       \n",
       "\n",
       "                                        ⎤\n",
       "                                        ⎥\n",
       "                                        ⎥\n",
       "                                        ⎥\n",
       "   π⎞⎞                        ⎞         ⎥\n",
       " + ─⎟⎟ + L⋅g⋅mᵣ⋅sin(x₂) - γ⋅x₄⎟⋅cos(x₂) ⎥\n",
       "   4⎠⎠                        ⎠         ⎥\n",
       "─────────────────────────────────────── ⎥\n",
       "                                        ⎥\n",
       "                                        ⎥\n",
       "                                        ⎥\n",
       "       ⎛    π⎞⎞                        ⎞⎥\n",
       ") + sin⎜α + ─⎟⎟ + L⋅g⋅mᵣ⋅sin(x₂) - γ⋅x₄⎟⎥\n",
       "       ⎝    4⎠⎠                        ⎠⎥\n",
       "────────────────────────────────────────⎥\n",
       "                                        ⎥\n",
       "                                        ⎦"
      ]
     },
     "metadata": {},
     "output_type": "display_data"
    },
    {
     "data": {
      "image/png": "[encoded data removed]",
      "text/latex": [
       "$\\displaystyle \\left[\\begin{matrix}x\\\\\\theta\\\\\\dot{x}\\\\\\dot{\\theta}\\end{matrix}\\right] = \\left[\\begin{matrix}x_{1}\\\\x_{2}\\\\x_{3}\\\\x_{4}\\end{matrix}\\right]$"
      ],
      "text/plain": [
       "⎡x⎤   ⎡x₁⎤\n",
       "⎢ ⎥   ⎢  ⎥\n",
       "⎢θ⎥   ⎢x₂⎥\n",
       "⎢ ⎥ = ⎢  ⎥\n",
       "⎢ẋ⎥   ⎢x₃⎥\n",
       "⎢ ⎥   ⎢  ⎥\n",
       "⎣θ̇⎦   ⎣x₄⎦"
      ]
     },
     "metadata": {},
     "output_type": "display_data"
    }
   ],
   "source": [
    "# Sym. state vector: x theta Dx Dtheta \"normal\"\n",
    "print('state_vec_noraml:')\n",
    "disp(state_vec_noraml)\n",
    "\n",
    "# Sym. state equations \"normal\"\n",
    "print('state_equations_normal:')\n",
    "disp(state_equations_normal)\n",
    "\n",
    "# Sym. state vector: x1 x2 x3 x4\n",
    "print('state_vec:')\n",
    "disp(state_vec)\n",
    "\n",
    "# Sym. równiania stanu w x-ach.\n",
    "state_equations = state_equations_normal.subs([(Dx, x3),\n",
    "                                               (Dtheta, x4),\n",
    "                                               (x, x1),\n",
    "                                               (theta, x2)])\n",
    "\n",
    "print('state_equations')\n",
    "disp(state_equations)\n",
    "\n",
    "disp(\n",
    "    smp.Eq(\n",
    "        state_vec_noraml,\n",
    "        state_vec\n",
    "    )\n",
    ")   "
   ]
  },
  {
   "attachments": {},
   "cell_type": "markdown",
   "metadata": {},
   "source": [
    "---\n",
    "---\n",
    "---"
   ]
  },
  {
   "attachments": {},
   "cell_type": "markdown",
   "metadata": {},
   "source": [
    "### <b> Pickling symbolic model"
   ]
  },
  {
   "attachments": {},
   "cell_type": "markdown",
   "metadata": {},
   "source": [
    "\n",
    "\\begin{equation}\n",
    "    \\begin{split}\n",
    "        & L = \\frac{L_pm_p + L_cm_c}{m_r} \\\\\n",
    "        & m_r = m_p + m_c \\\\\n",
    "        & m_r = m_p + m_c \\\\\n",
    "        & M_t = M+m_r \\\\\n",
    "        & J_t = J_{cm} + m_rL^2 \\\\\n",
    "        & J_{cm} = \\frac{4}{3}m_p L_p^2 + m_cL_c^2 -L^2m_r \n",
    "    \\end{split}\n",
    "\\end{equation}"
   ]
  },
  {
   "attachments": {},
   "cell_type": "markdown",
   "metadata": {},
   "source": [
    "DAE equations\n",
    "    \n",
    "\\begin{equation}\n",
    "    \\begin{bmatrix}\n",
    "        M_t & m_rL\\cos(\\theta)\\\\\n",
    "        m_rL\\cos(\\theta) & J_t \n",
    "    \\end{bmatrix}\n",
    "    \\begin{bmatrix}\n",
    "        \\ddot{x}\\\\\n",
    "        \\ddot{\\theta}\n",
    "    \\end{bmatrix}\n",
    "    +\n",
    "    \\begin{bmatrix}\n",
    "        b\\dot{x} - Lm_r\\sin(\\theta)\\dot{\\theta}^2\\\\\n",
    "        \\gamma\\dot{\\theta} - m_r g L\\sin(\\theta)\n",
    "    \\end{bmatrix}\n",
    "    =\n",
    "    \\begin{bmatrix}\n",
    "        u\\\\\n",
    "        0\n",
    "    \\end{bmatrix}\n",
    "    +\n",
    "    \\begin{bmatrix}\n",
    "        \\cos(\\alpha)\\\\\n",
    "        L\\cos(\\alpha-\\theta) + \\sin(\\alpha + \\frac{\\pi}{4})\n",
    "    \\end{bmatrix}\n",
    "\\end{equation}"
   ]
  },
  {
   "cell_type": "code",
   "execution_count": null,
   "metadata": {},
   "outputs": [],
   "source": [
    "model_constants = {'L': smp.Eq(L, L_cm_ramienia),\n",
    "                    'm_r': smp.Eq(m_r, m_p+m_c),\n",
    "                    'Mt': smp.Eq(Mt, M+m_r),\n",
    "                    'Jt': smp.Eq(Jt, J_cm + m_r*L**2),\n",
    "                    'Jcm': smp.Eq(J_cm, smp.Rational(4, 3) * m_p * L_p**2 + m_c*L_c**2 + m_r*L**2)}\n"
   ]
  },
  {
   "cell_type": "code",
   "execution_count": null,
   "metadata": {},
   "outputs": [
    {
     "name": "stdout",
     "output_type": "stream",
     "text": [
      "L : \n"
     ]
    },
    {
     "data": {
      "image/png": "[encoded data removed]",
      "text/latex": [
       "$\\displaystyle L = \\frac{L_{c} m_{c} + L_{p} m_{p}}{m_{r}}$"
      ],
      "text/plain": [
       "    L_c⋅m_c + Lₚ⋅mₚ\n",
       "L = ───────────────\n",
       "           mᵣ      "
      ]
     },
     "metadata": {},
     "output_type": "display_data"
    },
    {
     "name": "stdout",
     "output_type": "stream",
     "text": [
      "m_r : \n"
     ]
    },
    {
     "data": {
      "image/png": "[encoded data removed]",
      "text/latex": [
       "$\\displaystyle m_{r} = m_{c} + m_{p}$"
      ],
      "text/plain": [
       "mᵣ = m_c + mₚ"
      ]
     },
     "metadata": {},
     "output_type": "display_data"
    },
    {
     "name": "stdout",
     "output_type": "stream",
     "text": [
      "Mt : \n"
     ]
    },
    {
     "data": {
      "image/png": "[encoded data removed]",
      "text/latex": [
       "$\\displaystyle M_{t} = M + m_{r}$"
      ],
      "text/plain": [
       "Mₜ = M + mᵣ"
      ]
     },
     "metadata": {},
     "output_type": "display_data"
    },
    {
     "name": "stdout",
     "output_type": "stream",
     "text": [
      "Jt : \n"
     ]
    },
    {
     "data": {
      "image/png": "[encoded data removed]",
      "text/latex": [
       "$\\displaystyle J_{t} = J_{cm} + L^{2} m_{r}$"
      ],
      "text/plain": [
       "               2   \n",
       "Jₜ = J_{cm} + L ⋅mᵣ"
      ]
     },
     "metadata": {},
     "output_type": "display_data"
    },
    {
     "name": "stdout",
     "output_type": "stream",
     "text": [
      "Jcm : \n"
     ]
    },
    {
     "data": {
      "image/png": "[encoded data removed]",
      "text/latex": [
       "$\\displaystyle J_{cm} = L^{2} m_{r} + L_{c}^{2} m_{c} + \\frac{4 L_{p}^{2} m_{p}}{3}$"
      ],
      "text/plain": [
       "                                2   \n",
       "          2         2       4⋅Lₚ ⋅mₚ\n",
       "J_{cm} = L ⋅mᵣ + L_c ⋅m_c + ────────\n",
       "                               3    "
      ]
     },
     "metadata": {},
     "output_type": "display_data"
    }
   ],
   "source": [
    "for key, value in model_constants.items():\n",
    "    print(key, ': ')\n",
    "    disp(value)"
   ]
  },
  {
   "cell_type": "code",
   "execution_count": null,
   "metadata": {},
   "outputs": [
    {
     "data": {
      "image/png": "[encoded data removed]",
      "text/latex": [
       "$\\displaystyle \\left[\\begin{matrix}- L m_{r} \\sin{\\left(\\theta \\right)} \\dot{\\theta}^{2} + b \\dot{x}\\\\- L g m_{r} \\sin{\\left(\\theta \\right)} + \\gamma \\dot{\\theta}\\end{matrix}\\right] + \\left[\\begin{matrix}M_{t} & L m_{r} \\cos{\\left(\\theta \\right)}\\\\L m_{r} \\cos{\\left(\\theta \\right)} & J_{t}\\end{matrix}\\right] \\left[\\begin{matrix}\\ddot{x}\\\\\\ddot{\\theta}\\end{matrix}\\right] = \\left[\\begin{matrix}D \\cos{\\left(\\alpha \\right)} + u\\\\D \\left(L \\cos{\\left(\\alpha - \\theta \\right)} + \\sin{\\left(\\alpha + \\frac{\\pi}{4} \\right)}\\right)\\end{matrix}\\right]$"
      ],
      "text/plain": [
       "                                 ⎡               2      ⎤   ⎡        D⋅cos(α) \n",
       "⎡    Mₜ       L⋅mᵣ⋅cos(θ)⎤ ⎡ẍ⎤   ⎢- L⋅mᵣ⋅sin(θ)⋅θ̇  + b⋅ẋ⎥   ⎢              \n",
       "⎢                        ⎥⋅⎢ ⎥ + ⎢                      ⎥ = ⎢  ⎛              \n",
       "⎣L⋅mᵣ⋅cos(θ)      Jₜ     ⎦ ⎣θ̈⎦   ⎣ -L⋅g⋅mᵣ⋅sin(θ) + γ⋅θ̇ ⎦   ⎢D⋅⎜L⋅cos(α - θ)\n",
       "                                                            ⎣  ⎝              \n",
       "\n",
       "+ u         ⎤\n",
       "               ⎥\n",
       "    ⎛    π⎞⎞⎥\n",
       " + sin⎜α + ─⎟⎟⎥\n",
       "    ⎝    4⎠⎠⎦"
      ]
     },
     "metadata": {},
     "output_type": "display_data"
    }
   ],
   "source": [
    "DAE_model = smp.Eq(\n",
    "    smp.Add( smp.MatMul(Am, Bm), Cm),\n",
    "    smp.Add(smp.Add(Dm,Em)\n",
    "    )\n",
    ")\n",
    "disp(DAE_model)"
   ]
  },
  {
   "cell_type": "code",
   "execution_count": null,
   "metadata": {},
   "outputs": [
    {
     "data": {
      "image/png": "[encoded data removed]",
      "text/latex": [
       "$\\displaystyle \\left[\\begin{matrix}\\dot{x}\\\\\\dot{\\theta}\\\\\\ddot{x}\\\\\\ddot{\\theta}\\end{matrix}\\right] = \\left[\\begin{matrix}\\dot{x}\\\\\\dot{\\theta}\\\\\\frac{J_{t} \\left(D \\cos{\\left(\\alpha \\right)} + L m_{r} \\sin{\\left(\\theta \\right)} \\dot{\\theta}^{2} - b \\dot{x} + u\\right) - L m_{r} \\left(D \\left(L \\cos{\\left(\\alpha - \\theta \\right)} + \\sin{\\left(\\alpha + \\frac{\\pi}{4} \\right)}\\right) + L g m_{r} \\sin{\\left(\\theta \\right)} - \\gamma \\dot{\\theta}\\right) \\cos{\\left(\\theta \\right)}}{J_{t} M_{t} - L^{2} m_{r}^{2} \\cos^{2}{\\left(\\theta \\right)}}\\\\\\frac{- L m_{r} \\left(D \\cos{\\left(\\alpha \\right)} + L m_{r} \\sin{\\left(\\theta \\right)} \\dot{\\theta}^{2} - b \\dot{x} + u\\right) \\cos{\\left(\\theta \\right)} + M_{t} \\left(D \\left(L \\cos{\\left(\\alpha - \\theta \\right)} + \\sin{\\left(\\alpha + \\frac{\\pi}{4} \\right)}\\right) + L g m_{r} \\sin{\\left(\\theta \\right)} - \\gamma \\dot{\\theta}\\right)}{J_{t} M_{t} - L^{2} m_{r}^{2} \\cos^{2}{\\left(\\theta \\right)}}\\end{matrix}\\right]$"
      ],
      "text/plain": [
       "      ⎡                                                      ẋ               \n",
       "      ⎢                                                                       \n",
       "      ⎢                                                      θ̇               \n",
       "      ⎢                                                                       \n",
       "      ⎢    ⎛                        2          ⎞        ⎛  ⎛                  \n",
       "⎡ẋ⎤   ⎢ Jₜ⋅⎝D⋅cos(α) + L⋅mᵣ⋅sin(θ)⋅θ̇  - b⋅ẋ + u⎠ - L⋅mᵣ⋅⎜D⋅⎜L⋅cos(α - θ) + \n",
       "⎢ ⎥   ⎢                                                 ⎝  ⎝                  \n",
       "⎢θ̇⎥   ⎢ ─────────────────────────────────────────────────────────────────────\n",
       "⎢ ⎥ = ⎢                                                     2   2    2        \n",
       "⎢ẍ⎥   ⎢                                            Jₜ⋅Mₜ - L ⋅mᵣ ⋅cos (θ)    \n",
       "⎢ ⎥   ⎢                                                                       \n",
       "⎣θ̈⎦   ⎢       ⎛                        2          ⎞             ⎛  ⎛         \n",
       "      ⎢- L⋅mᵣ⋅⎝D⋅cos(α) + L⋅mᵣ⋅sin(θ)⋅θ̇  - b⋅ẋ + u⎠⋅cos(θ) + Mₜ⋅⎜D⋅⎜L⋅cos(α \n",
       "      ⎢                                                         ⎝  ⎝          \n",
       "      ⎢───────────────────────────────────────────────────────────────────────\n",
       "      ⎢                                                     2   2    2        \n",
       "      ⎣                                            Jₜ⋅Mₜ - L ⋅mᵣ ⋅cos (θ)     \n",
       "\n",
       "                                        ⎤\n",
       "                                       ⎥\n",
       "                                        ⎥\n",
       "                                       ⎥\n",
       "⎛    π⎞⎞                      ⎞        ⎥\n",
       "sin⎜α + ─⎟⎟ + L⋅g⋅mᵣ⋅sin(θ) - γ⋅θ̇⎟⋅cos(θ) ⎥\n",
       "⎝    4⎠⎠                      ⎠        ⎥\n",
       "─────────────────────────────────────── ⎥\n",
       "                                       ⎥\n",
       "                                        ⎥\n",
       "                                       ⎥\n",
       "         ⎛    π⎞⎞                      ⎞⎥\n",
       "- θ) + sin⎜α + ─⎟⎟ + L⋅g⋅mᵣ⋅sin(θ) - γ⋅θ̇⎟⎥\n",
       "        ⎝    4⎠⎠                      ⎠⎥\n",
       "───────────────────────────────────────⎥\n",
       "                                       ⎥\n",
       "                                       ⎦"
      ]
     },
     "metadata": {},
     "output_type": "display_data"
    }
   ],
   "source": [
    "ODE_model_var_natural = smp.Eq(state_vec_noraml_diff,\n",
    "                               state_equations_normal)\n",
    "disp(ODE_model_var_natural)"
   ]
  },
  {
   "cell_type": "code",
   "execution_count": null,
   "metadata": {},
   "outputs": [
    {
     "data": {
      "image/png": "[encoded data removed]",
      "text/latex": [
       "$\\displaystyle \\left[\\begin{matrix}\\dot{x}_{1}\\\\\\dot{x}_{2}\\\\\\dot{x}_{3}\\\\\\dot{x}_{4}\\end{matrix}\\right] = \\left[\\begin{matrix}x_{3}\\\\x_{4}\\\\\\frac{J_{t} \\left(D \\cos{\\left(\\alpha \\right)} + L m_{r} x_{4}^{2} \\sin{\\left(x_{2} \\right)} - b x_{3} + u\\right) - L m_{r} \\left(D \\left(L \\cos{\\left(\\alpha - x_{2} \\right)} + \\sin{\\left(\\alpha + \\frac{\\pi}{4} \\right)}\\right) + L g m_{r} \\sin{\\left(x_{2} \\right)} - \\gamma x_{4}\\right) \\cos{\\left(x_{2} \\right)}}{J_{t} M_{t} - L^{2} m_{r}^{2} \\cos^{2}{\\left(x_{2} \\right)}}\\\\\\frac{- L m_{r} \\left(D \\cos{\\left(\\alpha \\right)} + L m_{r} x_{4}^{2} \\sin{\\left(x_{2} \\right)} - b x_{3} + u\\right) \\cos{\\left(x_{2} \\right)} + M_{t} \\left(D \\left(L \\cos{\\left(\\alpha - x_{2} \\right)} + \\sin{\\left(\\alpha + \\frac{\\pi}{4} \\right)}\\right) + L g m_{r} \\sin{\\left(x_{2} \\right)} - \\gamma x_{4}\\right)}{J_{t} M_{t} - L^{2} m_{r}^{2} \\cos^{2}{\\left(x_{2} \\right)}}\\end{matrix}\\right]$"
      ],
      "text/plain": [
       "       ⎡                                                         x₃           \n",
       "       ⎢                                                                      \n",
       "       ⎢                                                         x₄           \n",
       "       ⎢                                                                      \n",
       "       ⎢    ⎛                  2                   ⎞        ⎛  ⎛              \n",
       "⎡x₁̇⎤   ⎢ Jₜ⋅⎝D⋅cos(α) + L⋅mᵣ⋅x₄ ⋅sin(x₂) - b⋅x₃ + u⎠ - L⋅mᵣ⋅⎜D⋅⎜L⋅cos(α - x₂)\n",
       "⎢  ⎥   ⎢                                                    ⎝  ⎝              \n",
       "⎢x₂̇⎥   ⎢ ────────────────────────────────────────────────────────────────────\n",
       "⎢  ⎥ = ⎢                                                        2   2    2    \n",
       "⎢x₃̇⎥   ⎢                                               Jₜ⋅Mₜ - L ⋅mᵣ ⋅cos (x₂\n",
       "⎢  ⎥   ⎢                                                                      \n",
       "⎣x₄̇⎦   ⎢       ⎛                  2                   ⎞              ⎛  ⎛    \n",
       "       ⎢- L⋅mᵣ⋅⎝D⋅cos(α) + L⋅mᵣ⋅x₄ ⋅sin(x₂) - b⋅x₃ + u⎠⋅cos(x₂) + Mₜ⋅⎜D⋅⎜L⋅cos\n",
       "       ⎢                                                             ⎝  ⎝     \n",
       "       ⎢──────────────────────────────────────────────────────────────────────\n",
       "       ⎢                                                        2   2    2    \n",
       "       ⎣                                               Jₜ⋅Mₜ - L ⋅mᵣ ⋅cos (x₂)\n",
       "\n",
       "                                               ⎤\n",
       "                                               ⎥\n",
       "                                               ⎥\n",
       "                                               ⎥\n",
       "     ⎛    π⎞⎞                        ⎞         ⎥\n",
       " + sin⎜α + ─⎟⎟ + L⋅g⋅mᵣ⋅sin(x₂) - γ⋅x₄⎟⋅cos(x₂) ⎥\n",
       "     ⎝    4⎠⎠                        ⎠         ⎥\n",
       "─────────────────────────────────────────────── ⎥\n",
       "                                               ⎥\n",
       ")                                               ⎥\n",
       "                                               ⎥\n",
       "               ⎛    π⎞⎞                        ⎞⎥\n",
       "(α - x₂) + sin⎜α + ─⎟⎟ + L⋅g⋅mᵣ⋅sin(x₂) - γ⋅x₄⎟⎥\n",
       "              ⎝    4⎠⎠                        ⎠⎥\n",
       "───────────────────────────────────────────────⎥\n",
       "                                               ⎥\n",
       "                                               ⎦"
      ]
     },
     "metadata": {},
     "output_type": "display_data"
    }
   ],
   "source": [
    "ODE_model_var_x = smp.Eq(state_vec.diff(t, 1),\n",
    "                         state_equations)\n",
    "disp(ODE_model_var_x)"
   ]
  },
  {
   "cell_type": "code",
   "execution_count": null,
   "metadata": {},
   "outputs": [],
   "source": [
    "content_to_save = {\n",
    "    'model_constants': model_constants,\n",
    "    'DAE_model': DAE_model,\n",
    "    'ODE_model_var_natural': ODE_model_var_natural,\n",
    "    'ODE_model_var_x': ODE_model_var_x    \n",
    "}"
   ]
  },
  {
   "cell_type": "code",
   "execution_count": null,
   "metadata": {},
   "outputs": [],
   "source": [
    "# '''\n",
    "# Nie mogłem użyć pickle bo nie radził sobie z funkcjami w sympy\n",
    "# '''\n",
    "# import pickle\n",
    "# # dump_string -> returns a string of binary format of the object\n",
    "# # returned string contains serialized object\n",
    "# saved_object_string = pickle.dumps(model_constants)\n",
    "# # Deserializacja zapisanego obiektu\n",
    "# # zwracana wartość jest 'deep copy' zapisanego obiektu\n",
    "# loaded_obj_from_string = pickle.loads(saved_object_string)"
   ]
  },
  {
   "cell_type": "code",
   "execution_count": null,
   "metadata": {},
   "outputs": [],
   "source": [
    "# conda install -c conda-forge dill\n",
    "import dill"
   ]
  },
  {
   "cell_type": "code",
   "execution_count": null,
   "metadata": {},
   "outputs": [],
   "source": [
    "with open('symbolicznyModelWahadla.pkl', 'wb') as f:\n",
    "    dill.dump(\n",
    "        content_to_save,\n",
    "        file=f,\n",
    "        protocol=dill.DEFAULT_PROTOCOL,\n",
    "        recurse=True)"
   ]
  },
  {
   "cell_type": "code",
   "execution_count": null,
   "metadata": {},
   "outputs": [],
   "source": [
    "with open('symbolicznyModelWahadla.pkl', 'rb') as f:\n",
    "    content = dill.load(f)"
   ]
  },
  {
   "cell_type": "code",
   "execution_count": null,
   "metadata": {},
   "outputs": [],
   "source": []
  },
  {
   "cell_type": "code",
   "execution_count": null,
   "metadata": {},
   "outputs": [],
   "source": []
  }
 ],
 "metadata": {
  "kernelspec": {
   "display_name": "systems",
   "language": "python",
   "name": "python3"
  },
  "language_info": {
   "codemirror_mode": {
    "name": "ipython",
    "version": 3
   },
   "file_extension": ".py",
   "mimetype": "text/x-python",
   "name": "python",
   "nbconvert_exporter": "python",
   "pygments_lexer": "ipython3",
   "version": "3.9.16"
  }
 },
 "nbformat": 4,
 "nbformat_minor": 4
}
