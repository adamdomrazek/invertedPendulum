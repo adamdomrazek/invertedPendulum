{
 "cells": [
  {
   "cell_type": "code",
   "execution_count": 5,
   "metadata": {},
   "outputs": [],
   "source": [
    "import matplotlib.pyplot as plt\n",
    "import numpy as np\n",
    "from mpl_toolkits.mplot3d import Axes3D\n",
    "from matplotlib import cm"
   ]
  },
  {
   "attachments": {},
   "cell_type": "markdown",
   "metadata": {},
   "source": [
    "<img src=\"./jak_dziala_meshgrid.png\" alt=\"obrazek\" width=\"1300\" />"
   ]
  },
  {
   "cell_type": "markdown",
   "metadata": {},
   "source": [
    "# <b> ogólnie, kiedy uywać indeksowania xy a kiedy ij (transponowanego)  </b>\n",
    "używać indeksowania <b>indexing='ij'</b> jak pracuje z funkcjami z meshgrid\n",
    "wtedy myśle o: $$z[:, 3]$$ jako o przekroju $$z\\ od\\ x\\ dla\\ y=3$$\n",
    "albo: wszystkie elementy pierwszej osi, w miejscu 3 drugiej osi\\\n",
    "albo: wartości dla Z od pierwszej osi, w miejscu 3 drugiej osi\n",
    "\n",
    "<b>Ale </b>\n",
    "\n",
    "jak pracuje np. z obrazami w grey-scale'u (tablice 2D)\n",
    "to wole myśleć o $$img[:, 3]$$ jako o TRZECI element ze wszystkich RZĘDÓW (third element in all rows / third column elements)\\\n",
    "albo: po prostu <b>\"trzecia kolumna\"</b>\\\n",
    "\n",
    "Więc aby zmienić każdą macierz / tablice 2D na indeksowanie macierzowe -> TRANSPOZYCJA\n",
    "\n"
   ]
  },
  {
   "cell_type": "markdown",
   "metadata": {},
   "source": [
    "### <b> Indeksowanie $ij$ \"macierzowe\" oraz sprase=True/false"
   ]
  },
  {
   "cell_type": "code",
   "execution_count": 6,
   "metadata": {},
   "outputs": [],
   "source": [
    "x = np.arange(0, 6, 1)\n",
    "y = np.arange(0, 10, 1)"
   ]
  },
  {
   "cell_type": "code",
   "execution_count": 7,
   "metadata": {},
   "outputs": [
    {
     "data": {
      "text/plain": [
       "array([[ 0,  2,  4,  6,  8, 10, 12, 14, 16, 18],\n",
       "       [ 1,  3,  5,  7,  9, 11, 13, 15, 17, 19],\n",
       "       [ 2,  4,  6,  8, 10, 12, 14, 16, 18, 20],\n",
       "       [ 3,  5,  7,  9, 11, 13, 15, 17, 19, 21],\n",
       "       [ 4,  6,  8, 10, 12, 14, 16, 18, 20, 22],\n",
       "       [ 5,  7,  9, 11, 13, 15, 17, 19, 21, 23]])"
      ]
     },
     "metadata": {},
     "output_type": "display_data"
    },
    {
     "data": {
      "text/plain": [
       "array([ 8,  9, 10, 11, 12, 13])"
      ]
     },
     "execution_count": 7,
     "metadata": {},
     "output_type": "execute_result"
    }
   ],
   "source": [
    "xx_ij, yy_ij = np.meshgrid(x, y, indexing='ij')\n",
    "z_ij = xx_ij + 2*yy_ij\n",
    "display(z_ij)\n",
    "z_ij[:, 4]"
   ]
  },
  {
   "cell_type": "code",
   "execution_count": 8,
   "metadata": {},
   "outputs": [
    {
     "data": {
      "text/plain": [
       "array([[ 0,  2,  4,  6,  8, 10, 12, 14, 16, 18],\n",
       "       [ 1,  3,  5,  7,  9, 11, 13, 15, 17, 19],\n",
       "       [ 2,  4,  6,  8, 10, 12, 14, 16, 18, 20],\n",
       "       [ 3,  5,  7,  9, 11, 13, 15, 17, 19, 21],\n",
       "       [ 4,  6,  8, 10, 12, 14, 16, 18, 20, 22],\n",
       "       [ 5,  7,  9, 11, 13, 15, 17, 19, 21, 23]])"
      ]
     },
     "metadata": {},
     "output_type": "display_data"
    },
    {
     "data": {
      "text/plain": [
       "array([ 8,  9, 10, 11, 12, 13])"
      ]
     },
     "execution_count": 8,
     "metadata": {},
     "output_type": "execute_result"
    }
   ],
   "source": [
    "# Jeżeli funkcja (z_ij) zależy od wszystkich osi (zmiennych) to można użyć sparse=True\n",
    "xx_ij, yy_ij = np.meshgrid(x, y, indexing='ij',sparse=True)\n",
    "z_ij = xx_ij + 2*yy_ij\n",
    "display(z_ij)\n",
    "z_ij[:, 4]"
   ]
  },
  {
   "cell_type": "code",
   "execution_count": 9,
   "metadata": {},
   "outputs": [
    {
     "data": {
      "text/plain": [
       "array([[0, 0, 0, 0, 0, 0, 0, 0, 0, 0],\n",
       "       [1, 1, 1, 1, 1, 1, 1, 1, 1, 1],\n",
       "       [2, 2, 2, 2, 2, 2, 2, 2, 2, 2],\n",
       "       [3, 3, 3, 3, 3, 3, 3, 3, 3, 3],\n",
       "       [4, 4, 4, 4, 4, 4, 4, 4, 4, 4],\n",
       "       [5, 5, 5, 5, 5, 5, 5, 5, 5, 5]])"
      ]
     },
     "metadata": {},
     "output_type": "display_data"
    },
    {
     "data": {
      "text/plain": [
       "array([0, 1, 2, 3, 4, 5])"
      ]
     },
     "execution_count": 9,
     "metadata": {},
     "output_type": "execute_result"
    }
   ],
   "source": [
    "# Ale jeżeli funkcja (z_ij) NIE zależy od wszystkich osi (zmiennych) to NIE można użyć sparse=True\n",
    "xx_ij, yy_ij = np.meshgrid(x, y, indexing='ij',sparse=False)\n",
    "z_ij = xx_ij\n",
    "display(z_ij)\n",
    "z_ij[:, 4]"
   ]
  },
  {
   "attachments": {},
   "cell_type": "markdown",
   "metadata": {},
   "source": [
    "### <b> Indeksowanie $xy$ \"kartezjańskie\""
   ]
  },
  {
   "cell_type": "code",
   "execution_count": 10,
   "metadata": {},
   "outputs": [
    {
     "data": {
      "text/plain": [
       "array([[ 0,  1,  2,  3,  4,  5],\n",
       "       [ 2,  3,  4,  5,  6,  7],\n",
       "       [ 4,  5,  6,  7,  8,  9],\n",
       "       [ 6,  7,  8,  9, 10, 11],\n",
       "       [ 8,  9, 10, 11, 12, 13],\n",
       "       [10, 11, 12, 13, 14, 15],\n",
       "       [12, 13, 14, 15, 16, 17],\n",
       "       [14, 15, 16, 17, 18, 19],\n",
       "       [16, 17, 18, 19, 20, 21],\n",
       "       [18, 19, 20, 21, 22, 23]])"
      ]
     },
     "metadata": {},
     "output_type": "display_data"
    },
    {
     "data": {
      "text/plain": [
       "array([ 4,  6,  8, 10, 12, 14, 16, 18, 20, 22])"
      ]
     },
     "execution_count": 10,
     "metadata": {},
     "output_type": "execute_result"
    }
   ],
   "source": [
    "xx_xy, yy_xy = np.meshgrid(x, y, indexing='xy')\n",
    "z_xy = xx_xy + 2*yy_xy\n",
    "display(z_xy)\n",
    "z_xy[:, 4]"
   ]
  }
 ],
 "metadata": {
  "kernelspec": {
   "display_name": "systems",
   "language": "python",
   "name": "python3"
  },
  "language_info": {
   "codemirror_mode": {
    "name": "ipython",
    "version": 3
   },
   "file_extension": ".py",
   "mimetype": "text/x-python",
   "name": "python",
   "nbconvert_exporter": "python",
   "pygments_lexer": "ipython3",
   "version": "3.9.16"
  },
  "orig_nbformat": 4
 },
 "nbformat": 4,
 "nbformat_minor": 2
}
